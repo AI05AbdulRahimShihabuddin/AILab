{
  "nbformat": 4,
  "nbformat_minor": 0,
  "metadata": {
    "colab": {
      "name": "NBa.ipynb",
      "provenance": [],
      "collapsed_sections": [],
      "authorship_tag": "ABX9TyOauvS95y7wR18/jz0CaEgs",
      "include_colab_link": true
    },
    "kernelspec": {
      "name": "python3",
      "display_name": "Python 3"
    },
    "language_info": {
      "name": "python"
    }
  },
  "cells": [
    {
      "cell_type": "markdown",
      "metadata": {
        "id": "view-in-github",
        "colab_type": "text"
      },
      "source": [
        "<a href=\"https://colab.research.google.com/github/AI05AbdulRahimShihabuddin/AILab/blob/master/NBa.ipynb\" target=\"_parent\"><img src=\"https://colab.research.google.com/assets/colab-badge.svg\" alt=\"Open In Colab\"/></a>"
      ]
    },
    {
      "cell_type": "code",
      "metadata": {
        "colab": {
          "base_uri": "https://localhost:8080/"
        },
        "id": "zOwsI54QFe1q",
        "outputId": "c35908be-1d9f-47a0-b0fa-5f1a6aa9ef43"
      },
      "source": [
        "##1. Training Data\n",
        "\n",
        "## Load Data\n",
        "\n",
        "from sklearn.datasets import load_iris\n",
        "\n",
        "dat=load_iris()\n",
        "x=dat.data\n",
        "y=dat.target\n",
        "\n",
        "## Algorithm\n",
        "\n",
        "from sklearn.naive_bayes import GaussianNB\n",
        "from sklearn.naive_bayes import MultinomialNB\n",
        "from sklearn.naive_bayes import BernoulliNB\n",
        "\n",
        "ML1= GaussianNB()\n",
        "ML2=MultinomialNB()\n",
        "ML3=BernoulliNB()\n",
        "\n",
        "## Fit data into model\n",
        "\n",
        "ML1=ML1.fit(x,y)\n",
        "ML2=ML2.fit(x,y)\n",
        "ML3=ML3.fit(x,y)\n",
        "\n",
        "##2. Testing Data\n",
        "\n",
        "out=ML1.predict([[3.5,3.5,3.5,3.5]])\n",
        "print('Using Gaussian NB, the species for 3.5,3.5,3.5,3.5 were predicted as ',out)\n",
        "out1=ML2.predict([[3.5,3.5,3.5,3.5]])\n",
        "print('Using Multinomial NB, the species for 3.5,3.5,3.5,3.5 were predicted as ',out1)\n",
        "out2=ML3.predict([[3.5,3.5,3.5,3.5]])\n",
        "print('Using Bernouilli NB, the species for 3.5,3.5,3.5,3.5 were predicted as ',out2)"
      ],
      "execution_count": 18,
      "outputs": [
        {
          "output_type": "stream",
          "text": [
            "Using Gaussian NB, the species for 3.5,3.5,3.5,3.5 were predicted as  [2]\n",
            "Using Multinomial NB, the species for 3.5,3.5,3.5,3.5 were predicted as  [2]\n",
            "Using Bernouilli NB, the species for 3.5,3.5,3.5,3.5 were predicted as  [0]\n"
          ],
          "name": "stdout"
        }
      ]
    },
    {
      "cell_type": "code",
      "metadata": {
        "id": "-DV834cQFqNI"
      },
      "source": [
        ""
      ],
      "execution_count": 18,
      "outputs": []
    }
  ]
}